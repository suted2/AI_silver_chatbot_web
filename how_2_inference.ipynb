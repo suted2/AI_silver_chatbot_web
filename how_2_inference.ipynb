{
 "cells": [
  {
   "cell_type": "code",
   "execution_count": null,
   "metadata": {},
   "outputs": [],
   "source": [
    "CATEGORY = '' # normal, water, corona\n",
    "\n",
    "from model_for_inference import Load_Model_Tokenizer\n",
    "import os\n",
    "import pickle\n",
    "import torch\n",
    "\n",
    "emb_dir = 'datasets'\n",
    "\n",
    "device = 'cuda' if torch.cuda.is_available() else 'cpu'\n",
    "\n",
    "model, tokenizer = Load_Model_Tokenizer('bert_model')   # model 저장 경로\n",
    "model.to(device)"
   ]
  },
  {
   "cell_type": "code",
   "execution_count": null,
   "metadata": {},
   "outputs": [],
   "source": [
    "from 카테고리별inference import Category_Callcenter\n",
    "\n",
    "call_center = Category_Callcenter(model=model, tokenizer=tokenizer, emb_df=embedding_df, device=device)\n",
    "\n",
    "query = '집에 가고 싶다'\n",
    "answer_idx = call_center.inference(query)\n",
    "\n",
    "print('질문 : ', query)\n",
    "print('대답 : ', text_df.iloc[call_center.inference(query)]['response'])\n",
    "print('='*80)"
   ]
  }
 ],
 "metadata": {
  "language_info": {
   "name": "python"
  },
  "orig_nbformat": 4
 },
 "nbformat": 4,
 "nbformat_minor": 2
}
