{
 "cells": [
  {
   "cell_type": "code",
   "execution_count": null,
   "metadata": {},
   "outputs": [],
   "source": [
    "%cd models/bert\n",
    "!gdown 1nxVBajc4_thMTXOWdxstQnyzJ6SiqV8J\n",
    "\n",
    "%cd models/poly_encoder\n",
    "!gdown 1VtB3fYNVb7I1dIIB4PuYVJpvQatePsLz\n",
    "\n",
    "%cd models/cross_encoder\n",
    "!gdown 1-5Uei2q3uqbSPyMXzoSIj50l7dxIL2Kh"
   ]
  },
  {
   "cell_type": "code",
   "execution_count": null,
   "metadata": {},
   "outputs": [],
   "source": [
    "%cd  # Poly-Enocder folder로 가도록\n",
    "\n",
    "CATEGORY = '' # normal, water, corona\n",
    "\n",
    "from model_for_inference import Load_Model_Tokenizer\n",
    "import os\n",
    "import pickle\n",
    "import torch\n",
    "\n",
    "poly_dir = 'path/to/poly_encoder'\n",
    "cross_dir = 'path/to/cross_encoder'\n",
    "emb_dir = 'datasets'\n",
    "device = 'cuda' if torch.cuda.is_available() else 'cpu'\n",
    "\n",
    "with open(os.path.join(emb_dir, f'{CATEGORY}_with_text.pickle'), 'rb') as f:      # q1, q2, q3, q4, response 임베딩값들 저장 pickle\n",
    "    embedding_df = pickle.load(f)\n",
    "\n",
    "cross_encoder, _ = Load_Model_Tokenizer(cross_dir, model_type='cross')\n",
    "poly_encoder, tokenizer = Load_Model_Tokenizer(poly_dir, model_type='poly')"
   ]
  },
  {
   "cell_type": "code",
   "execution_count": null,
   "metadata": {},
   "outputs": [],
   "source": [
    "from inference import Callcenter\n",
    "\n",
    "call_center = Callcenter(poly_encoder=poly_encoder, cross_encoder=cross_encoder,\n",
    "                        tokenizer=tokenizer, emb_df=embedding_df, device=device)\n",
    "\n",
    "query = '집에 가고 싶다'\n",
    "top_k_cross_scores, top_k_indices= call_center.inference(query)"
   ]
  }
 ],
 "metadata": {
  "kernelspec": {
   "display_name": "base",
   "language": "python",
   "name": "python3"
  },
  "language_info": {
   "codemirror_mode": {
    "name": "ipython",
    "version": 3
   },
   "file_extension": ".py",
   "mimetype": "text/x-python",
   "name": "python",
   "nbconvert_exporter": "python",
   "pygments_lexer": "ipython3",
   "version": "3.10.9"
  },
  "orig_nbformat": 4
 },
 "nbformat": 4,
 "nbformat_minor": 2
}
